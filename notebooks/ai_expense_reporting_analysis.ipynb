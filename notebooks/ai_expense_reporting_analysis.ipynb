{
 "cells": [
  {
   "cell_type": "markdown",
   "metadata": {},
   "source": [
    "# AI Expense Reporting Analysis\n",
    "\n",
    "This notebook analyzes AI subscription expense reporting by comparing:\n",
    "1. CS Monthly AI Subscriptions CSV - people who reported expenses\n",
    "2. People and AI Info CSV - all team members\n",
    "\n",
    "The goal is to calculate what percentage of team members reported AI expenses and identify name mismatches."
   ]
  },
  {
   "cell_type": "code",
   "execution_count": null,
   "metadata": {},
   "outputs": [],
   "source": [
    "import pandas as pd\n",
    "import numpy as np\n",
    "from fuzzywuzzy import fuzz\n",
    "from fuzzywuzzy import process\n",
    "import re\n",
    "\n",
    "# Display settings\n",
    "pd.set_option('display.max_rows', None)\n",
    "pd.set_option('display.max_columns', None)\n",
    "pd.set_option('display.width', None)"
   ]
  },
  {
   "cell_type": "markdown",
   "metadata": {},
   "source": [
    "## 1. Load Data"
   ]
  },
  {
   "cell_type": "code",
   "execution_count": null,
   "metadata": {},
   "outputs": [],
   "source": [
    "# Load CS Monthly AI Subscriptions data\n",
    "subscriptions_df = pd.read_csv('../data/CS Monthly AI Subscriptions.csv', skiprows=9)\n",
    "\n",
    "# Load People and AI Info data (most recent version)\n",
    "people_df = pd.read_csv('../data/CSP AI Culture and Learning_ Tracking - People and AI Info_2025-10-17.csv')\n",
    "\n",
    "print(f\"Subscriptions data shape: {subscriptions_df.shape}\")\n",
    "print(f\"People data shape: {people_df.shape}\")"
   ]
  },
  {
   "cell_type": "markdown",
   "metadata": {},
   "source": [
    "## 2. Extract Names from Subscriptions Data"
   ]
  },
  {
   "cell_type": "code",
   "execution_count": null,
   "metadata": {},
   "outputs": [],
   "source": [
    "# Look at the structure of subscriptions data\n",
    "print(\"Subscriptions DataFrame columns:\")\n",
    "print(subscriptions_df.columns.tolist())\n",
    "print(\"\\nFirst few rows:\")\n",
    "subscriptions_df.head(10)"
   ]
  },
  {
   "cell_type": "code",
   "execution_count": null,
   "metadata": {},
   "outputs": [],
   "source": [
    "# Extract names from the subscriptions data\n",
    "# The second column contains names with employee IDs in format: \"Name (ID)\"\n",
    "def extract_name_and_id(name_with_id):\n",
    "    \"\"\"Extract name and employee ID from format 'Name (ID)'\"\"\"\n",
    "    if pd.isna(name_with_id) or name_with_id == '(blank)':\n",
    "        return None, None\n",
    "    \n",
    "    # Match pattern: text followed by (number)\n",
    "    match = re.match(r'^(.+?)\\s*\\(([^)]+)\\)\\s*$', str(name_with_id))\n",
    "    if match:\n",
    "        name = match.group(1).strip()\n",
    "        emp_id = match.group(2).strip()\n",
    "        return name, emp_id\n",
    "    return str(name_with_id).strip(), None\n",
    "\n",
    "# Get the column with names (second column, index 1)\n",
    "name_column = subscriptions_df.columns[1]\n",
    "\n",
    "# Extract names and IDs\n",
    "subscriptions_df['extracted_name'], subscriptions_df['employee_id'] = zip(\n",
    "    *subscriptions_df[name_column].apply(extract_name_and_id)\n",
    ")\n",
    "\n",
    "# Filter out rows without valid names\n",
    "reported_expenses = subscriptions_df[subscriptions_df['extracted_name'].notna()].copy()\n",
    "\n",
    "# Remove summary rows (like totals)\n",
    "reported_expenses = reported_expenses[~reported_expenses['extracted_name'].str.contains('AI Subscription|Users|blank', na=False)]\n",
    "\n",
    "print(f\"\\nNumber of people who reported expenses: {len(reported_expenses)}\")\n",
    "print(\"\\nNames extracted from subscriptions data:\")\n",
    "print(reported_expenses[['extracted_name', 'employee_id']].head(10))"
   ]
  },
  {
   "cell_type": "markdown",
   "metadata": {},
   "source": [
    "## 3. Extract Names from People and AI Info Data"
   ]
  },
  {
   "cell_type": "code",
   "execution_count": null,
   "metadata": {},
   "outputs": [],
   "source": [
    "# Look at the People data structure\n",
    "print(\"People DataFrame columns:\")\n",
    "print(people_df.columns.tolist())\n",
    "print(\"\\nFirst few rows:\")\n",
    "people_df.head(10)"
   ]
  },
  {
   "cell_type": "code",
   "execution_count": null,
   "metadata": {},
   "outputs": [],
   "source": [
    "# Clean up people names - remove extra whitespace and filter valid entries\n",
    "people_df['Name'] = people_df['Name'].str.strip()\n",
    "all_team_members = people_df[people_df['Name'].notna() & (people_df['Name'] != '')].copy()\n",
    "\n",
    "# Remove any invalid entries\n",
    "all_team_members = all_team_members[~all_team_members['Name'].str.contains('@', na=False)]  # Remove email entries\n",
    "\n",
    "print(f\"\\nTotal team members: {len(all_team_members)}\")\n",
    "print(\"\\nSample team member names:\")\n",
    "print(all_team_members['Name'].head(10).tolist())"
   ]
  },
  {
   "cell_type": "markdown",
   "metadata": {},
   "source": [
    "## 4. Normalize Names for Matching"
   ]
  },
  {
   "cell_type": "code",
   "execution_count": null,
   "metadata": {},
   "outputs": [],
   "source": [
    "def normalize_name(name):\n",
    "    \"\"\"Normalize name by removing special characters, extra spaces, and converting to lowercase\"\"\"\n",
    "    if pd.isna(name):\n",
    "        return ''\n",
    "    \n",
    "    # Convert to string and lowercase\n",
    "    name = str(name).lower()\n",
    "    \n",
    "    # Remove Chinese characters in parentheses\n",
    "    name = re.sub(r'[（(][^)）]*[）)]', '', name)\n",
    "    \n",
    "    # Remove special characters except spaces and hyphens\n",
    "    name = re.sub(r'[^a-z\\s-]', '', name)\n",
    "    \n",
    "    # Normalize spaces\n",
    "    name = ' '.join(name.split())\n",
    "    \n",
    "    return name.strip()\n",
    "\n",
    "# Normalize names in both datasets\n",
    "reported_expenses['normalized_name'] = reported_expenses['extracted_name'].apply(normalize_name)\n",
    "all_team_members['normalized_name'] = all_team_members['Name'].apply(normalize_name)\n",
    "\n",
    "print(\"\\nSample normalized names from subscriptions:\")\n",
    "print(reported_expenses[['extracted_name', 'normalized_name']].head(10))\n",
    "\n",
    "print(\"\\nSample normalized names from team list:\")\n",
    "print(all_team_members[['Name', 'normalized_name']].head(10))"
   ]
  },
  {
   "cell_type": "markdown",
   "metadata": {},
   "source": [
    "## 5. Match Names Using Fuzzy Matching"
   ]
  },
  {
   "cell_type": "code",
   "execution_count": null,
   "metadata": {},
   "outputs": [],
   "source": [
    "def find_best_match(name, choices, threshold=85):\n",
    "    \"\"\"Find the best fuzzy match for a name\"\"\"\n",
    "    if not name or not choices:\n",
    "        return None, 0\n",
    "    \n",
    "    result = process.extractOne(name, choices, scorer=fuzz.token_sort_ratio)\n",
    "    if result and result[1] >= threshold:\n",
    "        return result[0], result[1]\n",
    "    return None, result[1] if result else 0\n",
    "\n",
    "# Create a list of all team member normalized names for matching\n",
    "team_names_list = all_team_members['normalized_name'].tolist()\n",
    "team_names_original = all_team_members['Name'].tolist()\n",
    "\n",
    "# Find matches for each person who reported expenses\n",
    "matches = []\n",
    "for idx, row in reported_expenses.iterrows():\n",
    "    reported_name = row['normalized_name']\n",
    "    best_match, score = find_best_match(reported_name, team_names_list)\n",
    "    \n",
    "    # Get the original name from the team list\n",
    "    original_match = None\n",
    "    if best_match:\n",
    "        match_idx = team_names_list.index(best_match)\n",
    "        original_match = team_names_original[match_idx]\n",
    "    \n",
    "    matches.append({\n",
    "        'subscription_name': row['extracted_name'],\n",
    "        'normalized_subscription': reported_name,\n",
    "        'matched_team_name': original_match,\n",
    "        'normalized_matched': best_match,\n",
    "        'match_score': score,\n",
    "        'is_matched': score >= 85\n",
    "    })\n",
    "\n",
    "matches_df = pd.DataFrame(matches)\n",
    "\n",
    "print(f\"\\nTotal expense reports: {len(matches_df)}\")\n",
    "print(f\"Successfully matched: {matches_df['is_matched'].sum()}\")\n",
    "print(f\"Unmatched: {(~matches_df['is_matched']).sum()}\")"
   ]
  },
  {
   "cell_type": "markdown",
   "metadata": {},
   "source": [
    "## 6. Review Matches and Mismatches"
   ]
  },
  {
   "cell_type": "code",
   "execution_count": null,
   "metadata": {},
   "outputs": [],
   "source": [
    "# Show all matches with scores\n",
    "print(\"\\n\" + \"=\"*80)\n",
    "print(\"ALL MATCHES (sorted by match score)\")\n",
    "print(\"=\"*80)\n",
    "print(matches_df.sort_values('match_score', ascending=False)[[\n",
    "    'subscription_name', 'matched_team_name', 'match_score', 'is_matched'\n",
    "]])"
   ]
  },
  {
   "cell_type": "code",
   "execution_count": null,
   "metadata": {},
   "outputs": [],
   "source": [
    "# Show unmatched or low-confidence matches\n",
    "print(\"\\n\" + \"=\"*80)\n",
    "print(\"UNMATCHED OR LOW CONFIDENCE MATCHES (score < 85)\")\n",
    "print(\"=\"*80)\n",
    "unmatched = matches_df[~matches_df['is_matched']]\n",
    "if len(unmatched) > 0:\n",
    "    print(unmatched[['subscription_name', 'matched_team_name', 'match_score']])\n",
    "else:\n",
    "    print(\"All names matched successfully!\")"
   ]
  },
  {
   "cell_type": "markdown",
   "metadata": {},
   "source": [
    "## 7. Calculate Reporting Statistics"
   ]
  },
  {
   "cell_type": "code",
   "execution_count": null,
   "metadata": {},
   "outputs": [],
   "source": [
    "# Get unique matched team members who reported\n",
    "matched_reporters = matches_df[matches_df['is_matched']]['matched_team_name'].unique()\n",
    "total_team_members = len(all_team_members)\n",
    "num_reporters = len(matched_reporters)\n",
    "reporting_percentage = (num_reporters / total_team_members) * 100\n",
    "\n",
    "print(\"\\n\" + \"=\"*80)\n",
    "print(\"REPORTING STATISTICS\")\n",
    "print(\"=\"*80)\n",
    "print(f\"Total team members: {total_team_members}\")\n",
    "print(f\"Team members who reported expenses: {num_reporters}\")\n",
    "print(f\"Reporting percentage: {reporting_percentage:.1f}%\")\n",
    "print(f\"Team members who did NOT report: {total_team_members - num_reporters}\")"
   ]
  },
  {
   "cell_type": "markdown",
   "metadata": {},
   "source": [
    "## 8. Identify Team Members Who Did NOT Report"
   ]
  },
  {
   "cell_type": "code",
   "execution_count": null,
   "metadata": {},
   "outputs": [],
   "source": [
    "# Find team members who did not report\n",
    "all_team_names = set(all_team_members['Name'].tolist())\n",
    "reporters_set = set(matched_reporters)\n",
    "non_reporters = sorted(all_team_names - reporters_set)\n",
    "\n",
    "print(\"\\n\" + \"=\"*80)\n",
    "print(f\"TEAM MEMBERS WHO DID NOT REPORT EXPENSES ({len(non_reporters)})\")\n",
    "print(\"=\"*80)\n",
    "for i, name in enumerate(non_reporters, 1):\n",
    "    print(f\"{i}. {name}\")"
   ]
  },
  {
   "cell_type": "markdown",
   "metadata": {},
   "source": [
    "## 9. Cross-Check with 'Expensed' Column"
   ]
  },
  {
   "cell_type": "code",
   "execution_count": null,
   "metadata": {},
   "outputs": [],
   "source": [
    "# Check if the People and AI Info sheet has an 'Expensed' column\n",
    "if 'Expensed' in people_df.columns:\n",
    "    print(\"\\n\" + \"=\"*80)\n",
    "    print(\"CROSS-CHECK WITH 'EXPENSED' COLUMN IN PEOPLE DATA\")\n",
    "    print(\"=\"*80)\n",
    "    \n",
    "    # People marked as expensed in the People sheet\n",
    "    marked_expensed = all_team_members[all_team_members['Expensed'].notna() & \n",
    "                                       (all_team_members['Expensed'] != '')]['Name'].tolist()\n",
    "    \n",
    "    print(f\"\\nPeople marked as 'Expensed' in People sheet: {len(marked_expensed)}\")\n",
    "    print(f\"People who actually reported (from subscriptions): {num_reporters}\")\n",
    "    \n",
    "    # Find discrepancies\n",
    "    marked_but_not_reported = set(marked_expensed) - reporters_set\n",
    "    reported_but_not_marked = reporters_set - set(marked_expensed)\n",
    "    \n",
    "    if marked_but_not_reported:\n",
    "        print(f\"\\nMarked as 'Expensed' but NOT in subscription report ({len(marked_but_not_reported)}):\")\n",
    "        for name in sorted(marked_but_not_reported):\n",
    "            print(f\"  - {name}\")\n",
    "    \n",
    "    if reported_but_not_marked:\n",
    "        print(f\"\\nReported expenses but NOT marked in 'Expensed' column ({len(reported_but_not_marked)}):\")\n",
    "        for name in sorted(reported_but_not_marked):\n",
    "            print(f\"  - {name}\")"
   ]
  },
  {
   "cell_type": "markdown",
   "metadata": {},
   "source": [
    "## 10. Export Results for Manual Review"
   ]
  },
  {
   "cell_type": "code",
   "execution_count": null,
   "metadata": {},
   "outputs": [],
   "source": [
    "# Export matches for manual review\n",
    "output_path = '../outputs/expense_reporting_analysis.xlsx'\n",
    "\n",
    "with pd.ExcelWriter(output_path, engine='openpyxl') as writer:\n",
    "    # All matches\n",
    "    matches_df.to_excel(writer, sheet_name='All Matches', index=False)\n",
    "    \n",
    "    # Unmatched names\n",
    "    unmatched.to_excel(writer, sheet_name='Unmatched Names', index=False)\n",
    "    \n",
    "    # Non-reporters\n",
    "    non_reporters_df = pd.DataFrame({'Name': non_reporters})\n",
    "    non_reporters_df.to_excel(writer, sheet_name='Did Not Report', index=False)\n",
    "    \n",
    "    # Summary statistics\n",
    "    summary_df = pd.DataFrame({\n",
    "        'Metric': [\n",
    "            'Total Team Members',\n",
    "            'Reported Expenses',\n",
    "            'Did Not Report',\n",
    "            'Reporting Percentage',\n",
    "            'Matched Names',\n",
    "            'Unmatched Names'\n",
    "        ],\n",
    "        'Value': [\n",
    "            total_team_members,\n",
    "            num_reporters,\n",
    "            total_team_members - num_reporters,\n",
    "            f\"{reporting_percentage:.1f}%\",\n",
    "            matches_df['is_matched'].sum(),\n",
    "            (~matches_df['is_matched']).sum()\n",
    "        ]\n",
    "    })\n",
    "    summary_df.to_excel(writer, sheet_name='Summary', index=False)\n",
    "\n",
    "print(f\"\\nResults exported to: {output_path}\")"
   ]
  }
 ],
 "metadata": {
  "kernelspec": {
   "display_name": "Python 3",
   "language": "python",
   "name": "python3"
  },
  "language_info": {
   "codemirror_mode": {
    "name": "ipython",
    "version": 3
   },
   "file_extension": ".py",
   "mimetype": "text/x-python",
   "name": "python",
   "nbconvert_exporter": "python",
   "pygments_lexer": "ipython3",
   "version": "3.8.0"
  }
 },
 "nbformat": 4,
 "nbformat_minor": 4
}
